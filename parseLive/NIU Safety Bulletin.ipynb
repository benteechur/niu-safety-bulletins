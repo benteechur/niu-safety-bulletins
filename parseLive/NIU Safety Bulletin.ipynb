{
 "cells": [
  {
   "cell_type": "markdown",
   "metadata": {},
   "source": [
    "# Web Scrape\n",
    "https://www.datacamp.com/community/tutorials/web-scraping-using-python\n",
    "https://towardsdatascience.com/how-to-web-scrape-with-python-in-4-minutes-bc49186a8460"
   ]
  },
  {
   "cell_type": "code",
   "execution_count": 2,
   "metadata": {},
   "outputs": [],
   "source": [
    "# Import necessary packages\n",
    "\n",
    "import requests\n",
    "from urllib.request import urlopen\n",
    "from bs4 import BeautifulSoup\n",
    "\n",
    "import pandas as pd"
   ]
  },
  {
   "cell_type": "code",
   "execution_count": 3,
   "metadata": {},
   "outputs": [],
   "source": [
    "# Set url and access the site with requests lib\n",
    "\n",
    "url_new = 'https://www.niu.edu/publicsafety/emergency/safetybulletin/index.shtml'\n",
    "url_old = 'https://www.niu.edu/publicsafety/emergency/safetybulletin/archive.shtml'\n",
    "#response = requests.get(url_new)\n",
    "\n",
    "response_new = urlopen(url_new)\n",
    "response_old = urlopen(url_old)"
   ]
  },
  {
   "cell_type": "code",
   "execution_count": 4,
   "metadata": {},
   "outputs": [
    {
     "name": "stdout",
     "output_type": "stream",
     "text": [
      "<title>Current NIU Safety Notifications - NIU - Emergency Information</title>\n",
      "<title>Archived NIU Safety Bulletins - NIU - Emergency Information</title>\n"
     ]
    }
   ],
   "source": [
    "# Parse the html with BeautifulSoup\n",
    "\n",
    "#soup = BeautifulSoup(response.text, 'html.parser')\n",
    "soup_new = BeautifulSoup(response_new, 'lxml')\n",
    "soup_old = BeautifulSoup(response_old, 'lxml')\n",
    "\n",
    "# Get the title\n",
    "title_new = soup_new.title\n",
    "title_old = soup_old.title\n",
    "print(title_new)\n",
    "print(title_old)\n",
    "\n",
    "# Print out the text as well\n",
    "#text2 = soup2.get_text()\n",
    "#text = soup.get_text()\n",
    "#print(text)"
   ]
  },
  {
   "cell_type": "code",
   "execution_count": 9,
   "metadata": {},
   "outputs": [
    {
     "name": "stdout",
     "output_type": "stream",
     "text": [
      "The first two <tr> tags for current safety notifications:\n",
      "[<tr>\n",
      "<th valign=\"top\" width=\"14%\"><strong>Incident:</strong></th>\n",
      "<th valign=\"top\" width=\"86%\">SAFETY WARNING - Shooting - 900 Block of West Hillcrest Dr - Off Campus </th>\n",
      "</tr>, <tr>\n",
      "<td valign=\"top\"><strong>Date Occurred:</strong></td>\n",
      "<td valign=\"top\">December 15, 2019</td>\n",
      "</tr>]\n",
      "\n",
      "----------------------------------------------------------------------\n",
      "\n",
      "The first two <tr> tags for archived safety notifications:\n",
      "[<tr>\n",
      "<th valign=\"top\" width=\"14%\"><strong>Incident:</strong></th>\n",
      "<th valign=\"top\" width=\"86%\">Community Awareness Message </th>\n",
      "</tr>, <tr>\n",
      "<td valign=\"top\"><strong>Date Occurred:</strong></td>\n",
      "<td valign=\"top\">November 18, 2019</td>\n",
      "</tr>]\n"
     ]
    }
   ],
   "source": [
    "# Use the method .findAll to locate <tr> tags\n",
    "# < a > for hyperlinks, < table > for tables, < tr > for table rows, < th > for table headers, and < td > for table cells\n",
    "\n",
    "rows_new = soup_new.find_all('tr')\n",
    "#print(rows_new[:10])\n",
    "#print()\n",
    "#print()\n",
    "#print(soup_new.find_all('tr'))\n",
    "print('The first two <tr> tags for current safety notifications:')\n",
    "print(rows_new[0:2])\n",
    "\n",
    "print('\\n----------------------------------------------------------------------\\n')\n",
    "\n",
    "print('The first two <tr> tags for archived safety notifications:')\n",
    "rows_old = soup_old.find_all('tr')\n",
    "print(rows_old[:2])\n"
   ]
  },
  {
   "cell_type": "code",
   "execution_count": 10,
   "metadata": {},
   "outputs": [
    {
     "name": "stdout",
     "output_type": "stream",
     "text": [
      "[<th valign=\"top\" width=\"14%\"><strong>Incident:</strong></th>, <th valign=\"top\" width=\"86%\">SAFETY WARNING - Shooting - 900 Block of West Hillcrest Dr - Off Campus </th>, <th valign=\"top\" width=\"14%\"><strong>Incident:</strong></th>, <th valign=\"top\" width=\"86%\">SAFETY WARNING - Armed Robbery - 900 Block of Hillcrest Drive - Off Campus</th>, <th valign=\"top\" width=\"14%\"><strong>Incident:</strong></th>, <th valign=\"top\" width=\"86%\">SAFETY WARNING - Robbery - 800 Block Spiros Court - Off Campus</th>]\n"
     ]
    }
   ],
   "source": [
    "# Look at the headers from the current safety notifications\n",
    "\n",
    "headers = soup_new.find_all('th')\n",
    "print(headers[:])"
   ]
  },
  {
   "cell_type": "code",
   "execution_count": 12,
   "metadata": {},
   "outputs": [],
   "source": [
    "# Extract the contents\n",
    "\n",
    "header_lst = []\n",
    "content_lst = []\n",
    "\n",
    "for row in rows_new:\n",
    "    \n",
    "    row_th = row.find_all('th')\n",
    "    #print(row_th)\n",
    "    if len(row_th) > 0:\n",
    "        str_header = str(row_th)\n",
    "        clean_header = BeautifulSoup(str_header, 'lxml').get_text()\n",
    "        header_lst.append(clean_header)\n",
    "    \n",
    "    row_td = row.find_all('td')\n",
    "    #print('row_td is: ', row_td)\n",
    "    if len(row_td) > 0:\n",
    "        str_content = str(row_td)\n",
    "        clean_content = BeautifulSoup(str_content, 'lxml').get_text()\n",
    "        content_lst.append(clean_content)\n",
    "        df_row = pd.DataFrame(content_lst)\n",
    "    \n",
    "    #print(header_lst)\n",
    "    #print(content_lst)\n",
    "    #print()"
   ]
  },
  {
   "cell_type": "code",
   "execution_count": null,
   "metadata": {},
   "outputs": [],
   "source": []
  },
  {
   "cell_type": "code",
   "execution_count": null,
   "metadata": {},
   "outputs": [],
   "source": []
  },
  {
   "cell_type": "code",
   "execution_count": null,
   "metadata": {},
   "outputs": [],
   "source": []
  },
  {
   "cell_type": "code",
   "execution_count": null,
   "metadata": {},
   "outputs": [],
   "source": []
  },
  {
   "cell_type": "code",
   "execution_count": null,
   "metadata": {},
   "outputs": [],
   "source": []
  },
  {
   "cell_type": "code",
   "execution_count": null,
   "metadata": {},
   "outputs": [],
   "source": []
  },
  {
   "cell_type": "code",
   "execution_count": null,
   "metadata": {},
   "outputs": [],
   "source": []
  }
 ],
 "metadata": {
  "kernelspec": {
   "display_name": "Python 3",
   "language": "python",
   "name": "python3"
  },
  "language_info": {
   "codemirror_mode": {
    "name": "ipython",
    "version": 3
   },
   "file_extension": ".py",
   "mimetype": "text/x-python",
   "name": "python",
   "nbconvert_exporter": "python",
   "pygments_lexer": "ipython3",
   "version": "3.7.4"
  }
 },
 "nbformat": 4,
 "nbformat_minor": 2
}
